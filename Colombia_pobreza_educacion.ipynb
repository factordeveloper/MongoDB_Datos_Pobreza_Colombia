{
 "cells": [
  {
   "cell_type": "code",
   "execution_count": 13,
   "id": "eb2c0364",
   "metadata": {},
   "outputs": [
    {
     "name": "stderr",
     "output_type": "stream",
     "text": [
      "DEPRECATION: Loading egg at c:\\programdata\\anaconda3\\lib\\site-packages\\vboxapi-1.0-py3.11.egg is deprecated. pip 23.3 will enforce this behaviour change. A possible replacement is to use pip for package installation..\n"
     ]
    },
    {
     "name": "stdout",
     "output_type": "stream",
     "text": [
      "Defaulting to user installation because normal site-packages is not writeable\n",
      "Requirement already satisfied: pymongo in c:\\users\\juan felipe\\appdata\\roaming\\python\\python311\\site-packages (4.8.0)\n",
      "Requirement already satisfied: pandas in c:\\programdata\\anaconda3\\lib\\site-packages (2.0.3)\n",
      "Requirement already satisfied: dnspython<3.0.0,>=1.16.0 in c:\\users\\juan felipe\\appdata\\roaming\\python\\python311\\site-packages (from pymongo) (2.6.1)\n",
      "Requirement already satisfied: python-dateutil>=2.8.2 in c:\\programdata\\anaconda3\\lib\\site-packages (from pandas) (2.8.2)\n",
      "Requirement already satisfied: pytz>=2020.1 in c:\\programdata\\anaconda3\\lib\\site-packages (from pandas) (2023.3.post1)\n",
      "Requirement already satisfied: tzdata>=2022.1 in c:\\programdata\\anaconda3\\lib\\site-packages (from pandas) (2023.3)\n",
      "Requirement already satisfied: numpy>=1.21.0 in c:\\programdata\\anaconda3\\lib\\site-packages (from pandas) (1.24.3)\n",
      "Requirement already satisfied: six>=1.5 in c:\\programdata\\anaconda3\\lib\\site-packages (from python-dateutil>=2.8.2->pandas) (1.16.0)\n"
     ]
    }
   ],
   "source": [
    "#Librerias y Módulos🐼📊\n",
    "!pip install pymongo pandas"
   ]
  },
  {
   "cell_type": "code",
   "execution_count": null,
   "id": "6239ed66",
   "metadata": {
    "scrolled": true
   },
   "outputs": [],
   "source": [
    "import pymongo\n",
    "import pandas as pd\n",
    "\n",
    "# Conexión a MongoDB\n",
    "client = pymongo.MongoClient('mongodb://localhost:27017')\n",
    "db = client['datos_pobreza_educacion']  # nombre base de datos\n",
    "collection = db['resultados_icfes']  # Nombre colección\n",
    "\n",
    "# Paginación\n",
    "def get_page(page, limit=10):\n",
    "    skip = (page - 1) * limit\n",
    "    documents = list(collection.find().skip(skip).limit(limit))\n",
    "    return pd.DataFrame(documents)\n",
    "\n",
    "# Visualiza la primera página con 10 documentos\n",
    "page = 1\n",
    "limit = 10  # Cambia si prefieres 100\n",
    "df = get_page(page, limit)\n",
    "df.head()\n",
    "\n",
    "# Cambia de página\n",
    "page += 1\n",
    "df = get_page(page, limit)\n",
    "df.head()\n"
   ]
  },
  {
   "cell_type": "code",
   "execution_count": null,
   "id": "81a0dbf0",
   "metadata": {},
   "outputs": [],
   "source": []
  }
 ],
 "metadata": {
  "kernelspec": {
   "display_name": "Python 3 (ipykernel)",
   "language": "python",
   "name": "python3"
  },
  "language_info": {
   "codemirror_mode": {
    "name": "ipython",
    "version": 3
   },
   "file_extension": ".py",
   "mimetype": "text/x-python",
   "name": "python",
   "nbconvert_exporter": "python",
   "pygments_lexer": "ipython3",
   "version": "3.11.5"
  }
 },
 "nbformat": 4,
 "nbformat_minor": 5
}
